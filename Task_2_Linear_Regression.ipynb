{
  "nbformat": 4,
  "nbformat_minor": 0,
  "metadata": {
    "colab": {
      "name": "Task 2 - Linear Regression.ipynb",
      "provenance": [],
      "collapsed_sections": []
    },
    "kernelspec": {
      "name": "python3",
      "display_name": "Python 3"
    }
  },
  "cells": [
    {
      "cell_type": "markdown",
      "metadata": {
        "id": "GzfdMfk10NE6",
        "colab_type": "text"
      },
      "source": [
        "# **Task 2 : Exploring Supervised Machine Learning**\n",
        "\n",
        "### **Simple Linear Regression**\n",
        "In this regression task we will predict the percentage of marks that a student is expected to score based upon the number of hours they studied. This is a simple linear regression task as it involves just one variables.\n",
        "\n",
        "I used the following algorithms\n",
        "- Linear regression\n",
        "- Ridge Algorithm\n",
        "- SVM using linear kernel\n",
        "- Lasso Algorithm\n",
        "\n",
        "At the end of the file you'll get the best model out of the above mentioned algorithms "
      ]
    },
    {
      "cell_type": "markdown",
      "metadata": {
        "id": "19wCe874LefF",
        "colab_type": "text"
      },
      "source": [
        "### **Importing the libraries**"
      ]
    },
    {
      "cell_type": "code",
      "metadata": {
        "id": "V9QN2ZxC38pB",
        "colab_type": "code",
        "colab": {}
      },
      "source": [
        "import pandas as pd\n",
        "import numpy as np  \n",
        "import matplotlib.pyplot as plt  \n",
        "%matplotlib inline"
      ],
      "execution_count": 110,
      "outputs": []
    },
    {
      "cell_type": "markdown",
      "metadata": {
        "id": "ab9S7kAIL157",
        "colab_type": "text"
      },
      "source": [
        "### **Importing dataset from the link**"
      ]
    },
    {
      "cell_type": "code",
      "metadata": {
        "id": "LtU4YMEhqm9m",
        "colab_type": "code",
        "colab": {
          "base_uri": "https://localhost:8080/",
          "height": 425
        },
        "outputId": "04cf2c29-30f5-40ff-9572-9bc2167d7b12"
      },
      "source": [
        "dataset = pd.read_csv(\"http://bit.ly/w-data\")\n",
        "print(\"Data imported successfully\")\n",
        "\n",
        "print(\"\\nFirst 10 records of data:\\n\")\n",
        "dataset.head(10)"
      ],
      "execution_count": 111,
      "outputs": [
        {
          "output_type": "stream",
          "text": [
            "Data imported successfully\n",
            "\n",
            "First 10 records of data:\n",
            "\n"
          ],
          "name": "stdout"
        },
        {
          "output_type": "execute_result",
          "data": {
            "text/html": [
              "<div>\n",
              "<style scoped>\n",
              "    .dataframe tbody tr th:only-of-type {\n",
              "        vertical-align: middle;\n",
              "    }\n",
              "\n",
              "    .dataframe tbody tr th {\n",
              "        vertical-align: top;\n",
              "    }\n",
              "\n",
              "    .dataframe thead th {\n",
              "        text-align: right;\n",
              "    }\n",
              "</style>\n",
              "<table border=\"1\" class=\"dataframe\">\n",
              "  <thead>\n",
              "    <tr style=\"text-align: right;\">\n",
              "      <th></th>\n",
              "      <th>Hours</th>\n",
              "      <th>Scores</th>\n",
              "    </tr>\n",
              "  </thead>\n",
              "  <tbody>\n",
              "    <tr>\n",
              "      <th>0</th>\n",
              "      <td>2.5</td>\n",
              "      <td>21</td>\n",
              "    </tr>\n",
              "    <tr>\n",
              "      <th>1</th>\n",
              "      <td>5.1</td>\n",
              "      <td>47</td>\n",
              "    </tr>\n",
              "    <tr>\n",
              "      <th>2</th>\n",
              "      <td>3.2</td>\n",
              "      <td>27</td>\n",
              "    </tr>\n",
              "    <tr>\n",
              "      <th>3</th>\n",
              "      <td>8.5</td>\n",
              "      <td>75</td>\n",
              "    </tr>\n",
              "    <tr>\n",
              "      <th>4</th>\n",
              "      <td>3.5</td>\n",
              "      <td>30</td>\n",
              "    </tr>\n",
              "    <tr>\n",
              "      <th>5</th>\n",
              "      <td>1.5</td>\n",
              "      <td>20</td>\n",
              "    </tr>\n",
              "    <tr>\n",
              "      <th>6</th>\n",
              "      <td>9.2</td>\n",
              "      <td>88</td>\n",
              "    </tr>\n",
              "    <tr>\n",
              "      <th>7</th>\n",
              "      <td>5.5</td>\n",
              "      <td>60</td>\n",
              "    </tr>\n",
              "    <tr>\n",
              "      <th>8</th>\n",
              "      <td>8.3</td>\n",
              "      <td>81</td>\n",
              "    </tr>\n",
              "    <tr>\n",
              "      <th>9</th>\n",
              "      <td>2.7</td>\n",
              "      <td>25</td>\n",
              "    </tr>\n",
              "  </tbody>\n",
              "</table>\n",
              "</div>"
            ],
            "text/plain": [
              "   Hours  Scores\n",
              "0    2.5      21\n",
              "1    5.1      47\n",
              "2    3.2      27\n",
              "3    8.5      75\n",
              "4    3.5      30\n",
              "5    1.5      20\n",
              "6    9.2      88\n",
              "7    5.5      60\n",
              "8    8.3      81\n",
              "9    2.7      25"
            ]
          },
          "metadata": {
            "tags": []
          },
          "execution_count": 111
        }
      ]
    },
    {
      "cell_type": "code",
      "metadata": {
        "id": "T-yzKUnXDTCu",
        "colab_type": "code",
        "colab": {
          "base_uri": "https://localhost:8080/",
          "height": 329
        },
        "outputId": "1611c38c-4d82-47d8-b5a3-4118107d8abe"
      },
      "source": [
        "print('\\nDescription about data :' )\n",
        "dataset.describe()"
      ],
      "execution_count": 112,
      "outputs": [
        {
          "output_type": "stream",
          "text": [
            "\n",
            "Description about data :\n"
          ],
          "name": "stdout"
        },
        {
          "output_type": "execute_result",
          "data": {
            "text/html": [
              "<div>\n",
              "<style scoped>\n",
              "    .dataframe tbody tr th:only-of-type {\n",
              "        vertical-align: middle;\n",
              "    }\n",
              "\n",
              "    .dataframe tbody tr th {\n",
              "        vertical-align: top;\n",
              "    }\n",
              "\n",
              "    .dataframe thead th {\n",
              "        text-align: right;\n",
              "    }\n",
              "</style>\n",
              "<table border=\"1\" class=\"dataframe\">\n",
              "  <thead>\n",
              "    <tr style=\"text-align: right;\">\n",
              "      <th></th>\n",
              "      <th>Hours</th>\n",
              "      <th>Scores</th>\n",
              "    </tr>\n",
              "  </thead>\n",
              "  <tbody>\n",
              "    <tr>\n",
              "      <th>count</th>\n",
              "      <td>25.000000</td>\n",
              "      <td>25.000000</td>\n",
              "    </tr>\n",
              "    <tr>\n",
              "      <th>mean</th>\n",
              "      <td>5.012000</td>\n",
              "      <td>51.480000</td>\n",
              "    </tr>\n",
              "    <tr>\n",
              "      <th>std</th>\n",
              "      <td>2.525094</td>\n",
              "      <td>25.286887</td>\n",
              "    </tr>\n",
              "    <tr>\n",
              "      <th>min</th>\n",
              "      <td>1.100000</td>\n",
              "      <td>17.000000</td>\n",
              "    </tr>\n",
              "    <tr>\n",
              "      <th>25%</th>\n",
              "      <td>2.700000</td>\n",
              "      <td>30.000000</td>\n",
              "    </tr>\n",
              "    <tr>\n",
              "      <th>50%</th>\n",
              "      <td>4.800000</td>\n",
              "      <td>47.000000</td>\n",
              "    </tr>\n",
              "    <tr>\n",
              "      <th>75%</th>\n",
              "      <td>7.400000</td>\n",
              "      <td>75.000000</td>\n",
              "    </tr>\n",
              "    <tr>\n",
              "      <th>max</th>\n",
              "      <td>9.200000</td>\n",
              "      <td>95.000000</td>\n",
              "    </tr>\n",
              "  </tbody>\n",
              "</table>\n",
              "</div>"
            ],
            "text/plain": [
              "           Hours     Scores\n",
              "count  25.000000  25.000000\n",
              "mean    5.012000  51.480000\n",
              "std     2.525094  25.286887\n",
              "min     1.100000  17.000000\n",
              "25%     2.700000  30.000000\n",
              "50%     4.800000  47.000000\n",
              "75%     7.400000  75.000000\n",
              "max     9.200000  95.000000"
            ]
          },
          "metadata": {
            "tags": []
          },
          "execution_count": 112
        }
      ]
    },
    {
      "cell_type": "markdown",
      "metadata": {
        "id": "RHsPneuM4NgB",
        "colab_type": "text"
      },
      "source": [
        "Let's plot our data points on 2-D graph to eyeball our dataset and see if we can manually find any relationship between the data. We can create the plot with the following script:"
      ]
    },
    {
      "cell_type": "code",
      "metadata": {
        "id": "qxYBZkhAqpn9",
        "colab_type": "code",
        "colab": {
          "base_uri": "https://localhost:8080/",
          "height": 297
        },
        "outputId": "8f3e215e-915a-44d9-e949-4c36d634a525"
      },
      "source": [
        "# Plotting the distribution of scores\n",
        "dataset.plot(x='Hours', y='Scores', style='o')  \n",
        "plt.title('Hours vs Percentage', fontsize=16)  \n",
        "plt.xlabel('Hours Studied')  \n",
        "plt.ylabel('Percentage Score')  \n",
        "plt.show()"
      ],
      "execution_count": 113,
      "outputs": [
        {
          "output_type": "display_data",
          "data": {
            "image/png": "[encoded data removed]",
            "text/plain": [
              "<Figure size 432x288 with 1 Axes>"
            ]
          },
          "metadata": {
            "tags": [],
            "needs_background": "light"
          }
        }
      ]
    },
    {
      "cell_type": "markdown",
      "metadata": {
        "id": "fiQaULio4Rzr",
        "colab_type": "text"
      },
      "source": [
        "**From the graph above, we can clearly see that there is a positive linear relation between the number of hours studied and percentage of score.**"
      ]
    },
    {
      "cell_type": "markdown",
      "metadata": {
        "id": "WWtEr64M4jdz",
        "colab_type": "text"
      },
      "source": [
        "### **Preparing the data**\n",
        "\n",
        "This step involves dividing the data into **inputs(X)** and **outputs(y)**."
      ]
    },
    {
      "cell_type": "code",
      "metadata": {
        "id": "LiJ5210e4tNX",
        "colab_type": "code",
        "colab": {}
      },
      "source": [
        "X = dataset.iloc[:, 0:-1].values  \n",
        "y = dataset.iloc[:, -1].values"
      ],
      "execution_count": 114,
      "outputs": []
    },
    {
      "cell_type": "markdown",
      "metadata": {
        "id": "Riz-ZiZ34fO4",
        "colab_type": "text"
      },
      "source": [
        "Now we have to split the data into **X_train, X_test, y_train, y_test** using **train_test_split()** from model_selection module in scikit-learn.\n",
        "\n",
        "Where **X_train and y_train** are used to train the model and **X_test and y_test** are used to test the data."
      ]
    },
    {
      "cell_type": "code",
      "metadata": {
        "id": "udFYso1M4BNw",
        "colab_type": "code",
        "colab": {}
      },
      "source": [
        "from sklearn.model_selection import train_test_split  \n",
        "X_train, X_test, y_train, y_test = train_test_split(X, y, test_size=0.2, random_state=0) "
      ],
      "execution_count": 115,
      "outputs": []
    },
    {
      "cell_type": "markdown",
      "metadata": {
        "id": "71fzqkz39JDm",
        "colab_type": "text"
      },
      "source": [
        "# **Linear Regression Algorithm**"
      ]
    },
    {
      "cell_type": "markdown",
      "metadata": {
        "id": "a6WXptFU5CkC",
        "colab_type": "text"
      },
      "source": [
        "### **Training the data using linear regression**\n",
        "We have split our data into training and testing sets, and now is finally the time to train our test data. "
      ]
    },
    {
      "cell_type": "code",
      "metadata": {
        "id": "qddCuaS84fpK",
        "colab_type": "code",
        "colab": {
          "base_uri": "https://localhost:8080/",
          "height": 35
        },
        "outputId": "12110495-05e0-4f1f-decd-1e22be447b83"
      },
      "source": [
        "from sklearn.linear_model import LinearRegression  \n",
        "regressor = LinearRegression()  \n",
        "regressor.fit(X_train, y_train) \n",
        "\n",
        "print(\"Training complete.\")"
      ],
      "execution_count": 116,
      "outputs": [
        {
          "output_type": "stream",
          "text": [
            "Training complete.\n"
          ],
          "name": "stdout"
        }
      ]
    },
    {
      "cell_type": "markdown",
      "metadata": {
        "id": "UUNgGurNS9XT",
        "colab_type": "text"
      },
      "source": [
        "Plotting the training data and the linear regressor"
      ]
    },
    {
      "cell_type": "code",
      "metadata": {
        "id": "J61NX2_2-px7",
        "colab_type": "code",
        "colab": {
          "base_uri": "https://localhost:8080/",
          "height": 297
        },
        "outputId": "7cc49649-505e-4f4c-bb13-741913ef3543"
      },
      "source": [
        "plt.scatter(X_train,y_train)\n",
        "plt.plot(X_train,regressor.predict(X_train), color='red')\n",
        "plt.title('Hours vs Percentage', fontsize=16)  \n",
        "plt.xlabel('Hours Studied')  \n",
        "plt.ylabel('Percentage Score')  \n",
        "plt.show()"
      ],
      "execution_count": 117,
      "outputs": [
        {
          "output_type": "display_data",
          "data": {
            "image/png": "[encoded data removed]",
            "text/plain": [
              "<Figure size 432x288 with 1 Axes>"
            ]
          },
          "metadata": {
            "tags": [],
            "needs_background": "light"
          }
        }
      ]
    },
    {
      "cell_type": "code",
      "metadata": {
        "id": "UqDP1wDPTKg5",
        "colab_type": "code",
        "colab": {
          "base_uri": "https://localhost:8080/",
          "height": 52
        },
        "outputId": "7c499f94-c6ac-4e05-9751-3d6914a25cc5"
      },
      "source": [
        "print('intercept = ' + str(regressor.intercept_))\n",
        "print('coefficient = ' + str(*regressor.coef_))"
      ],
      "execution_count": 118,
      "outputs": [
        {
          "output_type": "stream",
          "text": [
            "intercept = 2.018160041434662\n",
            "coefficient = 9.91065648064224\n"
          ],
          "name": "stdout"
        }
      ]
    },
    {
      "cell_type": "markdown",
      "metadata": {
        "id": "JCQn-g4m5OK2",
        "colab_type": "text"
      },
      "source": [
        "### **Predicting test set results**"
      ]
    },
    {
      "cell_type": "code",
      "metadata": {
        "id": "6bmZUMZh5QLb",
        "colab_type": "code",
        "colab": {
          "base_uri": "https://localhost:8080/",
          "height": 202
        },
        "outputId": "c8e37707-9edb-436f-d2e0-dcc64be371de"
      },
      "source": [
        "y_pred = regressor.predict(X_test) # Predicting the scores\n",
        "# Comparing Actual vs Predicted\n",
        "df = pd.DataFrame({'Hours':X_test.flatten(), 'Actual': y_test, 'Predicted': y_pred})  \n",
        "df "
      ],
      "execution_count": 119,
      "outputs": [
        {
          "output_type": "execute_result",
          "data": {
            "text/html": [
              "<div>\n",
              "<style scoped>\n",
              "    .dataframe tbody tr th:only-of-type {\n",
              "        vertical-align: middle;\n",
              "    }\n",
              "\n",
              "    .dataframe tbody tr th {\n",
              "        vertical-align: top;\n",
              "    }\n",
              "\n",
              "    .dataframe thead th {\n",
              "        text-align: right;\n",
              "    }\n",
              "</style>\n",
              "<table border=\"1\" class=\"dataframe\">\n",
              "  <thead>\n",
              "    <tr style=\"text-align: right;\">\n",
              "      <th></th>\n",
              "      <th>Hours</th>\n",
              "      <th>Actual</th>\n",
              "      <th>Predicted</th>\n",
              "    </tr>\n",
              "  </thead>\n",
              "  <tbody>\n",
              "    <tr>\n",
              "      <th>0</th>\n",
              "      <td>1.5</td>\n",
              "      <td>20</td>\n",
              "      <td>16.884145</td>\n",
              "    </tr>\n",
              "    <tr>\n",
              "      <th>1</th>\n",
              "      <td>3.2</td>\n",
              "      <td>27</td>\n",
              "      <td>33.732261</td>\n",
              "    </tr>\n",
              "    <tr>\n",
              "      <th>2</th>\n",
              "      <td>7.4</td>\n",
              "      <td>69</td>\n",
              "      <td>75.357018</td>\n",
              "    </tr>\n",
              "    <tr>\n",
              "      <th>3</th>\n",
              "      <td>2.5</td>\n",
              "      <td>30</td>\n",
              "      <td>26.794801</td>\n",
              "    </tr>\n",
              "    <tr>\n",
              "      <th>4</th>\n",
              "      <td>5.9</td>\n",
              "      <td>62</td>\n",
              "      <td>60.491033</td>\n",
              "    </tr>\n",
              "  </tbody>\n",
              "</table>\n",
              "</div>"
            ],
            "text/plain": [
              "   Hours  Actual  Predicted\n",
              "0    1.5      20  16.884145\n",
              "1    3.2      27  33.732261\n",
              "2    7.4      69  75.357018\n",
              "3    2.5      30  26.794801\n",
              "4    5.9      62  60.491033"
            ]
          },
          "metadata": {
            "tags": []
          },
          "execution_count": 119
        }
      ]
    },
    {
      "cell_type": "markdown",
      "metadata": {
        "id": "5MFUuLwm8pej",
        "colab_type": "text"
      },
      "source": [
        "Plotting the testing data and linear regressor "
      ]
    },
    {
      "cell_type": "code",
      "metadata": {
        "id": "ihA0ktfR8ol0",
        "colab_type": "code",
        "colab": {
          "base_uri": "https://localhost:8080/",
          "height": 297
        },
        "outputId": "79e11dee-55e5-4ac7-a8ee-fd2a3c4e35f7"
      },
      "source": [
        "plt.scatter(X_test,y_test)\n",
        "plt.plot(X_test,regressor.predict(X_test),color='red')\n",
        "plt.title('Hours vs Percentage', fontsize=16)  \n",
        "plt.xlabel('Hours Studied')  \n",
        "plt.ylabel('Percentage Score')  \n",
        "plt.show()"
      ],
      "execution_count": 120,
      "outputs": [
        {
          "output_type": "display_data",
          "data": {
            "image/png": "[encoded data removed]",
            "text/plain": [
              "<Figure size 432x288 with 1 Axes>"
            ]
          },
          "metadata": {
            "tags": [],
            "needs_background": "light"
          }
        }
      ]
    },
    {
      "cell_type": "markdown",
      "metadata": {
        "id": "qhEJW4PZUm7W",
        "colab_type": "text"
      },
      "source": [
        "Predicting output for **9.25 hours** of work"
      ]
    },
    {
      "cell_type": "code",
      "metadata": {
        "id": "KAFO8zbx-AH1",
        "colab_type": "code",
        "colab": {
          "base_uri": "https://localhost:8080/",
          "height": 52
        },
        "outputId": "c0658338-f47e-4b16-f4ad-3fd61d4f4625"
      },
      "source": [
        "hours = 9.25\n",
        "own_pred = regressor.predict([[hours]])\n",
        "print(\"No of Hours = {}\".format(hours))\n",
        "print(\"Predicted Score = {}\".format(own_pred[0]))"
      ],
      "execution_count": 121,
      "outputs": [
        {
          "output_type": "stream",
          "text": [
            "No of Hours = 9.25\n",
            "Predicted Score = 93.69173248737539\n"
          ],
          "name": "stdout"
        }
      ]
    },
    {
      "cell_type": "markdown",
      "metadata": {
        "id": "0AAsPVA_6KmK",
        "colab_type": "text"
      },
      "source": [
        "### **Evaluating the Linear regression model**\n",
        "\n",
        "The final step is to evaluate the performance of algorithm. This step is particularly important to compare how well different algorithms perform on a particular dataset. I used **Mean absolute error** and **r2 score**"
      ]
    },
    {
      "cell_type": "code",
      "metadata": {
        "id": "r5UOrRH-5VCQ",
        "colab_type": "code",
        "colab": {
          "base_uri": "https://localhost:8080/",
          "height": 52
        },
        "outputId": "6d3d382e-0f95-4722-bddf-390efbfb884c"
      },
      "source": [
        "from sklearn import metrics  \n",
        "print('Mean Absolute Error:', metrics.mean_absolute_error(y_test, y_pred))\n",
        "print('r2_score:', metrics.r2_score(y_test, y_pred))"
      ],
      "execution_count": 122,
      "outputs": [
        {
          "output_type": "stream",
          "text": [
            "Mean Absolute Error: 4.183859899002982\n",
            "r2_score: 0.9454906892105354\n"
          ],
          "name": "stdout"
        }
      ]
    },
    {
      "cell_type": "markdown",
      "metadata": {
        "id": "ad-oVmcxjy9v",
        "colab_type": "text"
      },
      "source": [
        "# **SVM using linear kernel**\n",
        "\n",
        "### **Training the data using SVM linear kernel**"
      ]
    },
    {
      "cell_type": "code",
      "metadata": {
        "id": "MFYLJ03Fk2_y",
        "colab_type": "code",
        "colab": {
          "base_uri": "https://localhost:8080/",
          "height": 52
        },
        "outputId": "f0ce5d6c-3c41-4a23-aedd-9d13d08b62f1"
      },
      "source": [
        "from sklearn.svm import SVR\n",
        "svm_reg = SVR(kernel = 'linear')\n",
        "svm_reg.fit(X_train,y_train)"
      ],
      "execution_count": 123,
      "outputs": [
        {
          "output_type": "execute_result",
          "data": {
            "text/plain": [
              "SVR(C=1.0, cache_size=200, coef0=0.0, degree=3, epsilon=0.1, gamma='scale',\n",
              "    kernel='linear', max_iter=-1, shrinking=True, tol=0.001, verbose=False)"
            ]
          },
          "metadata": {
            "tags": []
          },
          "execution_count": 123
        }
      ]
    },
    {
      "cell_type": "markdown",
      "metadata": {
        "id": "DdzlMQ4zlPxO",
        "colab_type": "text"
      },
      "source": [
        "Plotting the training data and svm regressor"
      ]
    },
    {
      "cell_type": "code",
      "metadata": {
        "id": "uX5RTU3QlY6p",
        "colab_type": "code",
        "colab": {
          "base_uri": "https://localhost:8080/",
          "height": 297
        },
        "outputId": "f3466fe1-3a38-4103-95e0-d8b072f9ede4"
      },
      "source": [
        "plt.scatter(X_train,y_train)\n",
        "plt.plot(X_train,svm_reg.predict(X_train), color='red')\n",
        "plt.title('Hours vs Percentage', fontsize=16)  \n",
        "plt.xlabel('Hours Studied')  \n",
        "plt.ylabel('Percentage Score')  \n",
        "plt.show()"
      ],
      "execution_count": 124,
      "outputs": [
        {
          "output_type": "display_data",
          "data": {
            "image/png": "[encoded data removed]",
            "text/plain": [
              "<Figure size 432x288 with 1 Axes>"
            ]
          },
          "metadata": {
            "tags": [],
            "needs_background": "light"
          }
        }
      ]
    },
    {
      "cell_type": "code",
      "metadata": {
        "id": "0HyvVf-yl95G",
        "colab_type": "code",
        "colab": {
          "base_uri": "https://localhost:8080/",
          "height": 52
        },
        "outputId": "cb536958-c297-4973-f99d-9ded8fbaf6ab"
      },
      "source": [
        "print('intercept = ' + str(*svm_reg.intercept_))\n",
        "print('coefficient = ' + str(*svm_reg.coef_[0]))"
      ],
      "execution_count": 125,
      "outputs": [
        {
          "output_type": "stream",
          "text": [
            "intercept = 6.918749954070843\n",
            "coefficient = 8.937500066519451\n"
          ],
          "name": "stdout"
        }
      ]
    },
    {
      "cell_type": "markdown",
      "metadata": {
        "id": "ZVqWnX-3l85l",
        "colab_type": "text"
      },
      "source": [
        "### **Predicting test set results**"
      ]
    },
    {
      "cell_type": "code",
      "metadata": {
        "id": "1Cj-djQommq1",
        "colab_type": "code",
        "colab": {
          "base_uri": "https://localhost:8080/",
          "height": 202
        },
        "outputId": "be8d3117-ac8b-41d8-faee-a4a9c0609ef5"
      },
      "source": [
        "svm_y_pred = regressor.predict(X_test) # Predicting the scores\n",
        "# Comparing Actual vs Predicted\n",
        "df_svm = pd.DataFrame({'Hours':X_test.flatten(), 'Actual': y_test, 'Predicted': svm_y_pred})  \n",
        "df_svm"
      ],
      "execution_count": 126,
      "outputs": [
        {
          "output_type": "execute_result",
          "data": {
            "text/html": [
              "<div>\n",
              "<style scoped>\n",
              "    .dataframe tbody tr th:only-of-type {\n",
              "        vertical-align: middle;\n",
              "    }\n",
              "\n",
              "    .dataframe tbody tr th {\n",
              "        vertical-align: top;\n",
              "    }\n",
              "\n",
              "    .dataframe thead th {\n",
              "        text-align: right;\n",
              "    }\n",
              "</style>\n",
              "<table border=\"1\" class=\"dataframe\">\n",
              "  <thead>\n",
              "    <tr style=\"text-align: right;\">\n",
              "      <th></th>\n",
              "      <th>Hours</th>\n",
              "      <th>Actual</th>\n",
              "      <th>Predicted</th>\n",
              "    </tr>\n",
              "  </thead>\n",
              "  <tbody>\n",
              "    <tr>\n",
              "      <th>0</th>\n",
              "      <td>1.5</td>\n",
              "      <td>20</td>\n",
              "      <td>16.884145</td>\n",
              "    </tr>\n",
              "    <tr>\n",
              "      <th>1</th>\n",
              "      <td>3.2</td>\n",
              "      <td>27</td>\n",
              "      <td>33.732261</td>\n",
              "    </tr>\n",
              "    <tr>\n",
              "      <th>2</th>\n",
              "      <td>7.4</td>\n",
              "      <td>69</td>\n",
              "      <td>75.357018</td>\n",
              "    </tr>\n",
              "    <tr>\n",
              "      <th>3</th>\n",
              "      <td>2.5</td>\n",
              "      <td>30</td>\n",
              "      <td>26.794801</td>\n",
              "    </tr>\n",
              "    <tr>\n",
              "      <th>4</th>\n",
              "      <td>5.9</td>\n",
              "      <td>62</td>\n",
              "      <td>60.491033</td>\n",
              "    </tr>\n",
              "  </tbody>\n",
              "</table>\n",
              "</div>"
            ],
            "text/plain": [
              "   Hours  Actual  Predicted\n",
              "0    1.5      20  16.884145\n",
              "1    3.2      27  33.732261\n",
              "2    7.4      69  75.357018\n",
              "3    2.5      30  26.794801\n",
              "4    5.9      62  60.491033"
            ]
          },
          "metadata": {
            "tags": []
          },
          "execution_count": 126
        }
      ]
    },
    {
      "cell_type": "markdown",
      "metadata": {
        "id": "BwAABW7fnE07",
        "colab_type": "text"
      },
      "source": [
        "plotting testing data and regressor"
      ]
    },
    {
      "cell_type": "code",
      "metadata": {
        "id": "sxuVFIpTnJXE",
        "colab_type": "code",
        "colab": {
          "base_uri": "https://localhost:8080/",
          "height": 297
        },
        "outputId": "5dbe406f-30d0-4ca7-cf54-b416f6dde459"
      },
      "source": [
        "plt.scatter(X_test,y_test)\n",
        "plt.plot(X_test,svm_reg.predict(X_test),color='red')\n",
        "plt.title('Hours vs Percentage', fontsize=16)  \n",
        "plt.xlabel('Hours Studied')  \n",
        "plt.ylabel('Percentage Score')  \n",
        "plt.show()"
      ],
      "execution_count": 127,
      "outputs": [
        {
          "output_type": "display_data",
          "data": {
            "image/png": "[encoded data removed]",
            "text/plain": [
              "<Figure size 432x288 with 1 Axes>"
            ]
          },
          "metadata": {
            "tags": [],
            "needs_background": "light"
          }
        }
      ]
    },
    {
      "cell_type": "markdown",
      "metadata": {
        "id": "cUqaix-QnYcB",
        "colab_type": "text"
      },
      "source": [
        "Predicting output for **9.25 hours** of work"
      ]
    },
    {
      "cell_type": "code",
      "metadata": {
        "id": "YPAUrxUYnZWR",
        "colab_type": "code",
        "colab": {
          "base_uri": "https://localhost:8080/",
          "height": 52
        },
        "outputId": "c93ca5e1-a1f2-4495-f347-61ea53e75fb4"
      },
      "source": [
        "hours = 9.25\n",
        "svm_own_pred = svm_reg.predict([[hours]])\n",
        "print(\"No of Hours = {}\".format(hours))\n",
        "print(\"Predicted Score = {}\".format(own_pred[0]))"
      ],
      "execution_count": 128,
      "outputs": [
        {
          "output_type": "stream",
          "text": [
            "No of Hours = 9.25\n",
            "Predicted Score = 93.69173248737539\n"
          ],
          "name": "stdout"
        }
      ]
    },
    {
      "cell_type": "markdown",
      "metadata": {
        "id": "uvlxhk0nnwRO",
        "colab_type": "text"
      },
      "source": [
        "### **Evaluating the Linear regression model**\n",
        "\n",
        "The final step is to evaluate the performance of algorithm. This step is particularly important to compare how well different algorithms perform on a particular dataset. I used **Mean absolute error** and **r2 score**"
      ]
    },
    {
      "cell_type": "code",
      "metadata": {
        "id": "FJ5BRW89nxKk",
        "colab_type": "code",
        "colab": {
          "base_uri": "https://localhost:8080/",
          "height": 52
        },
        "outputId": "6d1a1e02-fd34-4fc3-8c14-431edac0312b"
      },
      "source": [
        "from sklearn import metrics  \n",
        "print('Mean Absolute Error:', metrics.mean_absolute_error(y_test, svm_y_pred))\n",
        "print('r2_score:', metrics.r2_score(y_test, svm_y_pred))"
      ],
      "execution_count": 129,
      "outputs": [
        {
          "output_type": "stream",
          "text": [
            "Mean Absolute Error: 4.183859899002982\n",
            "r2_score: 0.9454906892105354\n"
          ],
          "name": "stdout"
        }
      ]
    },
    {
      "cell_type": "markdown",
      "metadata": {
        "id": "2QGEg-BEF_Hv",
        "colab_type": "text"
      },
      "source": [
        "Ridge and Lasso regression are some of the simple techniques to reduce model complexity and prevent over-fitting which may result from simple linear regression.\n",
        "\n",
        "# **Ridge Algorithm**\n",
        "\n",
        "### **Training the data using linear Ridge Model**\n",
        "We have split our data into training and testing sets, and now is finally the time to train our test data. "
      ]
    },
    {
      "cell_type": "code",
      "metadata": {
        "id": "FCS4EjdKGy4Q",
        "colab_type": "code",
        "colab": {}
      },
      "source": [
        "from sklearn.linear_model import Ridge\n",
        "ridge_reg = Ridge(alpha=0)\n",
        "ridge_reg.fit(X_train, y_train)\n",
        "ridge_test_pred = [] # To store test set predictions for various alphas"
      ],
      "execution_count": 130,
      "outputs": []
    },
    {
      "cell_type": "markdown",
      "metadata": {
        "id": "tYDVnAtlROW1",
        "colab_type": "text"
      },
      "source": [
        "Alpha is Regularization strength. Regularization improves the conditioning of the problem and reduces the variance of the estimates i.e., helps reduce overfitting. Larger values specify stronger regularization.\n",
        "\n",
        "Trying differerent alphas and storing in **ridge_test_pred**"
      ]
    },
    {
      "cell_type": "code",
      "metadata": {
        "id": "SBNB7PfFKVWG",
        "colab_type": "code",
        "colab": {}
      },
      "source": [
        "for alpha in np.arange(0, 100, 1):\n",
        "    # training\n",
        "    ridge_reg = Ridge(alpha=alpha)\n",
        "    ridge_reg.fit(X_train, y_train)\n",
        "    # prediction\n",
        "    ridge_test_pred.append(ridge_reg.predict(X_test))"
      ],
      "execution_count": 131,
      "outputs": []
    },
    {
      "cell_type": "markdown",
      "metadata": {
        "id": "FFudkMPCR7te",
        "colab_type": "text"
      },
      "source": [
        "Finding the **mean squared error** for all the alphas for test set and storing in **ridge_mse_test**"
      ]
    },
    {
      "cell_type": "code",
      "metadata": {
        "id": "Og85V7G5Kvgp",
        "colab_type": "code",
        "colab": {}
      },
      "source": [
        "ridge_mse_test = [metrics.mean_squared_error(y_test, p) for p in ridge_test_pred]"
      ],
      "execution_count": 132,
      "outputs": []
    },
    {
      "cell_type": "markdown",
      "metadata": {
        "id": "1aaA6IYDSn-d",
        "colab_type": "text"
      },
      "source": [
        "Plotting mean squared error vs alpha values"
      ]
    },
    {
      "cell_type": "code",
      "metadata": {
        "id": "ILFzOwWEN3qQ",
        "colab_type": "code",
        "colab": {
          "base_uri": "https://localhost:8080/",
          "height": 315
        },
        "outputId": "a7dd647f-c861-49e6-b4e6-10970308633b"
      },
      "source": [
        "plt.plot(ridge_mse_test[:40], 'o')\n",
        "plt.title(\"Ridge Test Set MSE\", fontsize=16)\n",
        "plt.xlabel(\"Alpha\")\n",
        "plt.ylabel(\"MSE\")"
      ],
      "execution_count": 133,
      "outputs": [
        {
          "output_type": "execute_result",
          "data": {
            "text/plain": [
              "Text(0, 0.5, 'MSE')"
            ]
          },
          "metadata": {
            "tags": []
          },
          "execution_count": 133
        },
        {
          "output_type": "display_data",
          "data": {
            "image/png": "[encoded data removed]",
            "text/plain": [
              "<Figure size 432x288 with 1 Axes>"
            ]
          },
          "metadata": {
            "tags": [],
            "needs_background": "light"
          }
        }
      ]
    },
    {
      "cell_type": "markdown",
      "metadata": {
        "id": "0tHvKVLjS7an",
        "colab_type": "text"
      },
      "source": [
        "Finding the best alpha value where **mean squared error** is low"
      ]
    },
    {
      "cell_type": "code",
      "metadata": {
        "id": "9rYB9HoVOiFm",
        "colab_type": "code",
        "colab": {
          "base_uri": "https://localhost:8080/",
          "height": 35
        },
        "outputId": "6ebfc0ac-1c01-4bf8-9b11-070b38c75974"
      },
      "source": [
        "print('Best alpha with low error : '+ str(ridge_mse_test.index(min(ridge_mse_test))))"
      ],
      "execution_count": 134,
      "outputs": [
        {
          "output_type": "stream",
          "text": [
            "Best alpha with low error : 8\n"
          ],
          "name": "stdout"
        }
      ]
    },
    {
      "cell_type": "markdown",
      "metadata": {
        "id": "t7O-fc4LTQp1",
        "colab_type": "text"
      },
      "source": [
        "Therefore we retrain our model with **alpha=8**"
      ]
    },
    {
      "cell_type": "code",
      "metadata": {
        "id": "gwYFGXzVQHYs",
        "colab_type": "code",
        "colab": {
          "base_uri": "https://localhost:8080/",
          "height": 52
        },
        "outputId": "f4cac479-8028-43b9-f5d0-2677448540ba"
      },
      "source": [
        "ridge_reg = Ridge(alpha=8)\n",
        "ridge_reg.fit(X_train, y_train)"
      ],
      "execution_count": 135,
      "outputs": [
        {
          "output_type": "execute_result",
          "data": {
            "text/plain": [
              "Ridge(alpha=8, copy_X=True, fit_intercept=True, max_iter=None, normalize=False,\n",
              "      random_state=None, solver='auto', tol=0.001)"
            ]
          },
          "metadata": {
            "tags": []
          },
          "execution_count": 135
        }
      ]
    },
    {
      "cell_type": "markdown",
      "metadata": {
        "id": "QEofeCcXT4As",
        "colab_type": "text"
      },
      "source": [
        "Plotting the training data and the Redge regressor"
      ]
    },
    {
      "cell_type": "code",
      "metadata": {
        "id": "M3btUAuXTdUy",
        "colab_type": "code",
        "colab": {
          "base_uri": "https://localhost:8080/",
          "height": 297
        },
        "outputId": "cf85ab8e-5c2e-44f6-dbf5-c5718c639732"
      },
      "source": [
        "plt.scatter(X_train,y_train)\n",
        "plt.plot(X_train,ridge_reg.predict(X_train), color='red')\n",
        "plt.title('Hours vs Percentage', fontsize=16)  \n",
        "plt.xlabel('Hours Studied')  \n",
        "plt.ylabel('Percentage Score')  \n",
        "plt.show()"
      ],
      "execution_count": 136,
      "outputs": [
        {
          "output_type": "display_data",
          "data": {
            "image/png": "[encoded data removed]",
            "text/plain": [
              "<Figure size 432x288 with 1 Axes>"
            ]
          },
          "metadata": {
            "tags": [],
            "needs_background": "light"
          }
        }
      ]
    },
    {
      "cell_type": "code",
      "metadata": {
        "id": "A1_zuOILUHXz",
        "colab_type": "code",
        "colab": {
          "base_uri": "https://localhost:8080/",
          "height": 52
        },
        "outputId": "a189a96d-4fca-4183-8786-983adf2eb8d5"
      },
      "source": [
        "print('intercept = ' + str(ridge_reg.intercept_))\n",
        "print('coefficient = ' + str(*ridge_reg.coef_))"
      ],
      "execution_count": 137,
      "outputs": [
        {
          "output_type": "stream",
          "text": [
            "intercept = 5.175878633102272\n",
            "coefficient = 9.308038428797277\n"
          ],
          "name": "stdout"
        }
      ]
    },
    {
      "cell_type": "markdown",
      "metadata": {
        "id": "2aVP4TwKUOLc",
        "colab_type": "text"
      },
      "source": [
        "### **Predicting test set results**"
      ]
    },
    {
      "cell_type": "code",
      "metadata": {
        "id": "Y3LPG5AmUOzw",
        "colab_type": "code",
        "colab": {
          "base_uri": "https://localhost:8080/",
          "height": 202
        },
        "outputId": "044881d3-503d-4503-9e53-0aafc7c88350"
      },
      "source": [
        "ridge_y_pred = ridge_reg.predict(X_test) # Predicting the scores\n",
        "# Comparing Actual vs Predicted\n",
        "df_ridge = pd.DataFrame({'Hours':X_test.flatten(), 'Actual': y_test, 'Predicted': ridge_y_pred})  \n",
        "df_ridge"
      ],
      "execution_count": 138,
      "outputs": [
        {
          "output_type": "execute_result",
          "data": {
            "text/html": [
              "<div>\n",
              "<style scoped>\n",
              "    .dataframe tbody tr th:only-of-type {\n",
              "        vertical-align: middle;\n",
              "    }\n",
              "\n",
              "    .dataframe tbody tr th {\n",
              "        vertical-align: top;\n",
              "    }\n",
              "\n",
              "    .dataframe thead th {\n",
              "        text-align: right;\n",
              "    }\n",
              "</style>\n",
              "<table border=\"1\" class=\"dataframe\">\n",
              "  <thead>\n",
              "    <tr style=\"text-align: right;\">\n",
              "      <th></th>\n",
              "      <th>Hours</th>\n",
              "      <th>Actual</th>\n",
              "      <th>Predicted</th>\n",
              "    </tr>\n",
              "  </thead>\n",
              "  <tbody>\n",
              "    <tr>\n",
              "      <th>0</th>\n",
              "      <td>1.5</td>\n",
              "      <td>20</td>\n",
              "      <td>19.137936</td>\n",
              "    </tr>\n",
              "    <tr>\n",
              "      <th>1</th>\n",
              "      <td>3.2</td>\n",
              "      <td>27</td>\n",
              "      <td>34.961602</td>\n",
              "    </tr>\n",
              "    <tr>\n",
              "      <th>2</th>\n",
              "      <td>7.4</td>\n",
              "      <td>69</td>\n",
              "      <td>74.055363</td>\n",
              "    </tr>\n",
              "    <tr>\n",
              "      <th>3</th>\n",
              "      <td>2.5</td>\n",
              "      <td>30</td>\n",
              "      <td>28.445975</td>\n",
              "    </tr>\n",
              "    <tr>\n",
              "      <th>4</th>\n",
              "      <td>5.9</td>\n",
              "      <td>62</td>\n",
              "      <td>60.093305</td>\n",
              "    </tr>\n",
              "  </tbody>\n",
              "</table>\n",
              "</div>"
            ],
            "text/plain": [
              "   Hours  Actual  Predicted\n",
              "0    1.5      20  19.137936\n",
              "1    3.2      27  34.961602\n",
              "2    7.4      69  74.055363\n",
              "3    2.5      30  28.445975\n",
              "4    5.9      62  60.093305"
            ]
          },
          "metadata": {
            "tags": []
          },
          "execution_count": 138
        }
      ]
    },
    {
      "cell_type": "markdown",
      "metadata": {
        "id": "QzsdK1kHUVXa",
        "colab_type": "text"
      },
      "source": [
        "Plotting the test data and redge regressor\n"
      ]
    },
    {
      "cell_type": "code",
      "metadata": {
        "id": "7OxY8hX0Uaty",
        "colab_type": "code",
        "colab": {
          "base_uri": "https://localhost:8080/",
          "height": 297
        },
        "outputId": "729037ca-7a3e-4214-bd82-049acedf1e16"
      },
      "source": [
        "plt.scatter(X_test,y_test)\n",
        "plt.plot(X_test,ridge_reg.predict(X_test),color='red')\n",
        "plt.title('Hours vs Percentage', fontsize=16)  \n",
        "plt.xlabel('Hours Studied')  \n",
        "plt.ylabel('Percentage Score')  \n",
        "plt.show()"
      ],
      "execution_count": 139,
      "outputs": [
        {
          "output_type": "display_data",
          "data": {
            "image/png": "[encoded data removed]",
            "text/plain": [
              "<Figure size 432x288 with 1 Axes>"
            ]
          },
          "metadata": {
            "tags": [],
            "needs_background": "light"
          }
        }
      ]
    },
    {
      "cell_type": "markdown",
      "metadata": {
        "id": "1noXuIvTUwJo",
        "colab_type": "text"
      },
      "source": [
        "Predicting output for **9.25 hours** of work"
      ]
    },
    {
      "cell_type": "code",
      "metadata": {
        "id": "j0fefo0tUfxb",
        "colab_type": "code",
        "colab": {
          "base_uri": "https://localhost:8080/",
          "height": 52
        },
        "outputId": "5f273955-09b0-40c8-bd24-c98863d8234b"
      },
      "source": [
        "hours = 9.25\n",
        "ridge_own_pred = ridge_reg.predict([[hours]])\n",
        "print(\"No of Hours = {}\".format(hours))\n",
        "print(\"Predicted Score = {}\".format(own_pred[0]))"
      ],
      "execution_count": 140,
      "outputs": [
        {
          "output_type": "stream",
          "text": [
            "No of Hours = 9.25\n",
            "Predicted Score = 93.69173248737539\n"
          ],
          "name": "stdout"
        }
      ]
    },
    {
      "cell_type": "markdown",
      "metadata": {
        "id": "Ue7aa01uU8mm",
        "colab_type": "text"
      },
      "source": [
        "### **Evaluating the Ridge model**\n",
        "\n",
        "The final step is to evaluate the performance of algorithm. This step is particularly important to compare how well different algorithms perform on a particular dataset. I used **Mean absolute error** and **r2 score**"
      ]
    },
    {
      "cell_type": "code",
      "metadata": {
        "id": "v7BJ3GXfU9Nc",
        "colab_type": "code",
        "colab": {
          "base_uri": "https://localhost:8080/",
          "height": 52
        },
        "outputId": "3a7affff-3ab2-462d-dccd-3709f437e94a"
      },
      "source": [
        "from sklearn import metrics  \n",
        "print('Mean Absolute Error:', metrics.mean_absolute_error(y_test, ridge_y_pred))\n",
        "print('r2_score:', metrics.r2_score(y_test, ridge_y_pred))"
      ],
      "execution_count": 141,
      "outputs": [
        {
          "output_type": "stream",
          "text": [
            "Mean Absolute Error: 3.4679496534111665\n",
            "r2_score: 0.9516770501893197\n"
          ],
          "name": "stdout"
        }
      ]
    },
    {
      "cell_type": "markdown",
      "metadata": {
        "id": "XWVBvIdHrz0l",
        "colab_type": "text"
      },
      "source": [
        "# **Lasso Algorithm**\n",
        "\n",
        "### **Training the data using linear Ridge Model**\n",
        "We have split our data into training and testing sets, and now is finally the time to train our test data. "
      ]
    },
    {
      "cell_type": "code",
      "metadata": {
        "id": "KqON2jWRr0j-",
        "colab_type": "code",
        "colab": {}
      },
      "source": [
        "from sklearn.linear_model import Lasso\n",
        "lasso_reg = Lasso(alpha=3)\n",
        "lasso_reg.fit(X_train, y_train)\n",
        "lasso_test_pred = [] # To store test set predictions for various alphas"
      ],
      "execution_count": 142,
      "outputs": []
    },
    {
      "cell_type": "markdown",
      "metadata": {
        "id": "nvp4dUrdvWUg",
        "colab_type": "text"
      },
      "source": [
        "Alpha is Regularization strength. Regularization improves the conditioning of the problem and reduces the variance of the estimates i.e., helps reduce overfitting. Larger values specify stronger regularization.\n",
        "\n",
        "Same as in Ridge algorithm, we are trying differerent alphas and storing in **lasso_test_pred**"
      ]
    },
    {
      "cell_type": "code",
      "metadata": {
        "id": "mjKofROODK54",
        "colab_type": "code",
        "colab": {
          "base_uri": "https://localhost:8080/",
          "height": 141
        },
        "outputId": "2ab4f070-b39d-4491-cd47-7f42149e85df"
      },
      "source": [
        "for alpha in np.arange(0, 100, 1):\n",
        "    # training\n",
        "    lasso_reg = Lasso(alpha=alpha)\n",
        "    lasso_reg.fit(X_train, y_train)\n",
        "    # prediction\n",
        "    lasso_test_pred.append(lasso_reg.predict(X_test))"
      ],
      "execution_count": 143,
      "outputs": [
        {
          "output_type": "stream",
          "text": [
            "/usr/local/lib/python3.6/dist-packages/ipykernel_launcher.py:4: UserWarning: With alpha=0, this algorithm does not converge well. You are advised to use the LinearRegression estimator\n",
            "  after removing the cwd from sys.path.\n",
            "/usr/local/lib/python3.6/dist-packages/sklearn/linear_model/_coordinate_descent.py:476: UserWarning: Coordinate descent with no regularization may lead to unexpected results and is discouraged.\n",
            "  positive)\n",
            "/usr/local/lib/python3.6/dist-packages/sklearn/linear_model/_coordinate_descent.py:476: ConvergenceWarning: Objective did not converge. You might want to increase the number of iterations. Duality gap: 308.9818237731452, tolerance: 1.275495\n",
            "  positive)\n"
          ],
          "name": "stderr"
        }
      ]
    },
    {
      "cell_type": "markdown",
      "metadata": {
        "id": "q-hZ6ET-DcuC",
        "colab_type": "text"
      },
      "source": [
        "The above warning is due to aplha=0 which means there is **no regularisation**\n",
        "\n",
        "Finding the **mean squared error** for all the alphas for test set and storing in **lasso_mse_test**"
      ]
    },
    {
      "cell_type": "code",
      "metadata": {
        "id": "ZCY2GPfEDeBy",
        "colab_type": "code",
        "colab": {}
      },
      "source": [
        "lasso_mse_test = [metrics.mean_squared_error(y_test, p) for p in lasso_test_pred]"
      ],
      "execution_count": 144,
      "outputs": []
    },
    {
      "cell_type": "markdown",
      "metadata": {
        "id": "myevZhJVEH6J",
        "colab_type": "text"
      },
      "source": [
        "Plotting mean squared error vs alpha values"
      ]
    },
    {
      "cell_type": "code",
      "metadata": {
        "id": "rFkjZUO6DiSH",
        "colab_type": "code",
        "colab": {
          "base_uri": "https://localhost:8080/",
          "height": 315
        },
        "outputId": "cbd7c15b-0414-40c5-cc8f-200ceb0daacc"
      },
      "source": [
        "plt.plot(lasso_mse_test[:40], 'o')\n",
        "plt.title(\"Lasso Test Set MSE\", fontsize=16)\n",
        "plt.xlabel(\"Alpha\")\n",
        "plt.ylabel(\"MSE\")"
      ],
      "execution_count": 145,
      "outputs": [
        {
          "output_type": "execute_result",
          "data": {
            "text/plain": [
              "Text(0, 0.5, 'MSE')"
            ]
          },
          "metadata": {
            "tags": []
          },
          "execution_count": 145
        },
        {
          "output_type": "display_data",
          "data": {
            "image/png": "[encoded data removed]",
            "text/plain": [
              "<Figure size 432x288 with 1 Axes>"
            ]
          },
          "metadata": {
            "tags": [],
            "needs_background": "light"
          }
        }
      ]
    },
    {
      "cell_type": "markdown",
      "metadata": {
        "id": "YwjgzmznEYIx",
        "colab_type": "text"
      },
      "source": [
        "Finding the best alpha value where **mean squared error** is low"
      ]
    },
    {
      "cell_type": "code",
      "metadata": {
        "id": "b8k5LYDXEb0A",
        "colab_type": "code",
        "colab": {
          "base_uri": "https://localhost:8080/",
          "height": 35
        },
        "outputId": "b84238ec-bcaa-44db-e507-c4806d38edd1"
      },
      "source": [
        "print('Best alpha with low error : '+ str(lasso_mse_test.index(min(lasso_mse_test))))"
      ],
      "execution_count": 146,
      "outputs": [
        {
          "output_type": "stream",
          "text": [
            "Best alpha with low error : 4\n"
          ],
          "name": "stdout"
        }
      ]
    },
    {
      "cell_type": "markdown",
      "metadata": {
        "id": "mEgM5FBmE14z",
        "colab_type": "text"
      },
      "source": [
        "Therefore we retrain our model with **alpha=4**"
      ]
    },
    {
      "cell_type": "code",
      "metadata": {
        "id": "rF-iwV_9ExQf",
        "colab_type": "code",
        "colab": {
          "base_uri": "https://localhost:8080/",
          "height": 69
        },
        "outputId": "c70ed99d-8b57-4110-e0d8-c40e188f9684"
      },
      "source": [
        "lasso_reg = Lasso(alpha=4)\n",
        "lasso_reg.fit(X_train, y_train)"
      ],
      "execution_count": 147,
      "outputs": [
        {
          "output_type": "execute_result",
          "data": {
            "text/plain": [
              "Lasso(alpha=4, copy_X=True, fit_intercept=True, max_iter=1000, normalize=False,\n",
              "      positive=False, precompute=False, random_state=None, selection='cyclic',\n",
              "      tol=0.0001, warm_start=False)"
            ]
          },
          "metadata": {
            "tags": []
          },
          "execution_count": 147
        }
      ]
    },
    {
      "cell_type": "markdown",
      "metadata": {
        "id": "Zdw7rKoZF3Es",
        "colab_type": "text"
      },
      "source": [
        "Plotting the training data and the Lasso Regressor"
      ]
    },
    {
      "cell_type": "code",
      "metadata": {
        "id": "83M0Espkr15E",
        "colab_type": "code",
        "colab": {
          "base_uri": "https://localhost:8080/",
          "height": 297
        },
        "outputId": "77da8b52-f33d-4e93-d9e7-a86f9a2bb715"
      },
      "source": [
        "plt.scatter(X_train,y_train)\n",
        "plt.plot(X_train,lasso_reg.predict(X_train), color='red')\n",
        "plt.title('Hours vs Percentage', fontsize=16)  \n",
        "plt.xlabel('Hours Studied')  \n",
        "plt.ylabel('Percentage Score')  \n",
        "plt.show()"
      ],
      "execution_count": 148,
      "outputs": [
        {
          "output_type": "display_data",
          "data": {
            "image/png": "[encoded data removed]",
            "text/plain": [
              "<Figure size 432x288 with 1 Axes>"
            ]
          },
          "metadata": {
            "tags": [],
            "needs_background": "light"
          }
        }
      ]
    },
    {
      "cell_type": "code",
      "metadata": {
        "id": "YUuMbrjPr12_",
        "colab_type": "code",
        "colab": {
          "base_uri": "https://localhost:8080/",
          "height": 52
        },
        "outputId": "e15f5fb3-98ae-4fb4-90b6-6c9288d724ee"
      },
      "source": [
        "print('intercept = ' + str(lasso_reg.intercept_))\n",
        "print('coefficient = ' + str(*lasso_reg.coef_))"
      ],
      "execution_count": 149,
      "outputs": [
        {
          "output_type": "stream",
          "text": [
            "intercept = 5.41062410980188\n",
            "coefficient = 9.263239673701932\n"
          ],
          "name": "stdout"
        }
      ]
    },
    {
      "cell_type": "markdown",
      "metadata": {
        "id": "rVgfPK3yGMd1",
        "colab_type": "text"
      },
      "source": [
        "### **Predicting test set results**"
      ]
    },
    {
      "cell_type": "code",
      "metadata": {
        "id": "DMBA5JPir1zR",
        "colab_type": "code",
        "colab": {
          "base_uri": "https://localhost:8080/",
          "height": 202
        },
        "outputId": "3eccfbd0-fb96-4f0b-c085-d6fa68048220"
      },
      "source": [
        "lasso_y_pred = lasso_reg.predict(X_test) # Predicting the scores\n",
        "# Comparing Actual vs Predicted\n",
        "df_lasso = pd.DataFrame({'Hours':X_test.flatten(), 'Actual': y_test, 'Predicted': lasso_y_pred})  \n",
        "df_lasso"
      ],
      "execution_count": 150,
      "outputs": [
        {
          "output_type": "execute_result",
          "data": {
            "text/html": [
              "<div>\n",
              "<style scoped>\n",
              "    .dataframe tbody tr th:only-of-type {\n",
              "        vertical-align: middle;\n",
              "    }\n",
              "\n",
              "    .dataframe tbody tr th {\n",
              "        vertical-align: top;\n",
              "    }\n",
              "\n",
              "    .dataframe thead th {\n",
              "        text-align: right;\n",
              "    }\n",
              "</style>\n",
              "<table border=\"1\" class=\"dataframe\">\n",
              "  <thead>\n",
              "    <tr style=\"text-align: right;\">\n",
              "      <th></th>\n",
              "      <th>Hours</th>\n",
              "      <th>Actual</th>\n",
              "      <th>Predicted</th>\n",
              "    </tr>\n",
              "  </thead>\n",
              "  <tbody>\n",
              "    <tr>\n",
              "      <th>0</th>\n",
              "      <td>1.5</td>\n",
              "      <td>20</td>\n",
              "      <td>19.305484</td>\n",
              "    </tr>\n",
              "    <tr>\n",
              "      <th>1</th>\n",
              "      <td>3.2</td>\n",
              "      <td>27</td>\n",
              "      <td>35.052991</td>\n",
              "    </tr>\n",
              "    <tr>\n",
              "      <th>2</th>\n",
              "      <td>7.4</td>\n",
              "      <td>69</td>\n",
              "      <td>73.958598</td>\n",
              "    </tr>\n",
              "    <tr>\n",
              "      <th>3</th>\n",
              "      <td>2.5</td>\n",
              "      <td>30</td>\n",
              "      <td>28.568723</td>\n",
              "    </tr>\n",
              "    <tr>\n",
              "      <th>4</th>\n",
              "      <td>5.9</td>\n",
              "      <td>62</td>\n",
              "      <td>60.063738</td>\n",
              "    </tr>\n",
              "  </tbody>\n",
              "</table>\n",
              "</div>"
            ],
            "text/plain": [
              "   Hours  Actual  Predicted\n",
              "0    1.5      20  19.305484\n",
              "1    3.2      27  35.052991\n",
              "2    7.4      69  73.958598\n",
              "3    2.5      30  28.568723\n",
              "4    5.9      62  60.063738"
            ]
          },
          "metadata": {
            "tags": []
          },
          "execution_count": 150
        }
      ]
    },
    {
      "cell_type": "markdown",
      "metadata": {
        "id": "GN2BG3OUGdZN",
        "colab_type": "text"
      },
      "source": [
        "Plotting the test data and Lasso regressor\n"
      ]
    },
    {
      "cell_type": "code",
      "metadata": {
        "id": "yfFrwofDr1nN",
        "colab_type": "code",
        "colab": {
          "base_uri": "https://localhost:8080/",
          "height": 297
        },
        "outputId": "30c6b8dd-c3a2-463a-8130-c6d5c6c8bd51"
      },
      "source": [
        "plt.scatter(X_test,y_test)\n",
        "plt.plot(X_test,lasso_reg.predict(X_test),color='red')\n",
        "plt.title('Hours vs Percentage', fontsize=16)  \n",
        "plt.xlabel('Hours Studied')  \n",
        "plt.ylabel('Percentage Score')  \n",
        "plt.show()"
      ],
      "execution_count": 151,
      "outputs": [
        {
          "output_type": "display_data",
          "data": {
            "image/png": "[encoded data removed]",
            "text/plain": [
              "<Figure size 432x288 with 1 Axes>"
            ]
          },
          "metadata": {
            "tags": [],
            "needs_background": "light"
          }
        }
      ]
    },
    {
      "cell_type": "markdown",
      "metadata": {
        "id": "k8Px_gynr1EL",
        "colab_type": "text"
      },
      "source": [
        "### **Evaluating the Lasso model**\n",
        "\n",
        "The final step is to evaluate the performance of algorithm. This step is particularly important to compare how well different algorithms perform on a particular dataset. I used **Mean absolute error** and **r2 score**"
      ]
    },
    {
      "cell_type": "code",
      "metadata": {
        "id": "0OUAoREdGvUl",
        "colab_type": "code",
        "colab": {
          "base_uri": "https://localhost:8080/",
          "height": 52
        },
        "outputId": "1afa7b84-cffa-417f-adff-668b457820df"
      },
      "source": [
        "from sklearn import metrics  \n",
        "print('Mean Absolute Error:', metrics.mean_absolute_error(y_test, ridge_y_pred))\n",
        "print('r2_score:', metrics.r2_score(y_test, ridge_y_pred))"
      ],
      "execution_count": 152,
      "outputs": [
        {
          "output_type": "stream",
          "text": [
            "Mean Absolute Error: 3.4679496534111665\n",
            "r2_score: 0.9516770501893197\n"
          ],
          "name": "stdout"
        }
      ]
    },
    {
      "cell_type": "markdown",
      "metadata": {
        "id": "nfCE-2X3KzdO",
        "colab_type": "text"
      },
      "source": [
        "# **Conclusion**"
      ]
    },
    {
      "cell_type": "code",
      "metadata": {
        "id": "05mPjsv7oKny",
        "colab_type": "code",
        "colab": {
          "base_uri": "https://localhost:8080/",
          "height": 87
        },
        "outputId": "f19acd85-fbc0-4381-d482-3d1467861199"
      },
      "source": [
        "print('r2_score linear regression:', metrics.r2_score(y_test, y_pred))\n",
        "print('r2_score svm:', metrics.r2_score(y_test, svm_y_pred))\n",
        "print('r2_score Ridge:', metrics.r2_score(y_test, ridge_y_pred))\n",
        "print('r2_score Lasso:', metrics.r2_score(y_test, lasso_y_pred))"
      ],
      "execution_count": 153,
      "outputs": [
        {
          "output_type": "stream",
          "text": [
            "r2_score linear regression: 0.9454906892105354\n",
            "r2_score svm: 0.9454906892105354\n",
            "r2_score Ridge: 0.9516770501893197\n",
            "r2_score Lasso: 0.9516866686682858\n"
          ],
          "name": "stdout"
        }
      ]
    },
    {
      "cell_type": "code",
      "metadata": {
        "id": "Wqy3d9QUozS7",
        "colab_type": "code",
        "colab": {
          "base_uri": "https://localhost:8080/",
          "height": 35
        },
        "outputId": "8e647145-ddb1-4ef2-9856-91f4f9f1a803"
      },
      "source": [
        "print('Lasso has higher accuracy')"
      ],
      "execution_count": 154,
      "outputs": [
        {
          "output_type": "stream",
          "text": [
            "Lasso has higher accuracy\n"
          ],
          "name": "stdout"
        }
      ]
    }
  ]
}